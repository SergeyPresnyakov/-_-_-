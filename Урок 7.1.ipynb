{
 "cells": [
  {
   "cell_type": "code",
   "execution_count": 1,
   "metadata": {},
   "outputs": [],
   "source": [
    "%matplotlib inline\n",
    "import warnings\n",
    "from math import sqrt\n",
    "warnings.filterwarnings('ignore')\n",
    "import numpy as np\n",
    "import matplotlib.pyplot as plt\n",
    "import matplotlib.mlab as mlab\n",
    "import itertools\n",
    "from math import factorial"
   ]
  },
  {
   "cell_type": "markdown",
   "metadata": {},
   "source": [
    "### 5.1. Вектор – это частный случай матрицы 1хN и Nх1. Повторите материал для векторов, уделяя особое внимание умножению A∙B. Вычислите, по возможности не используя программирование $\n",
    "(5E)^{-1}$, где Е – единичная матрица размера 5х5.  \n",
    "#### Решение:\n",
    "$$(5E)^{-1}=5^{-1}*E^{-1}$$\n",
    "Рассуждаем. Матица, обратная единичной матрице - это такая матрица, при умножении на которую единичной матрицы получаеся единичная марица, т.е. $$E^{-1}*E = E$$\n",
    "Далее, помня свойство $$A*E=A$$ понимаем, что\n",
    "$$E^{-1}= E$$\n",
    "Т.е. матрица, обратная единичной, есть единичная матрица.\n",
    "\n"
   ]
  },
  {
   "cell_type": "markdown",
   "metadata": {},
   "source": [
    "Таким образом получаем $$(5E)^{-1}=5^{-1}*E^{-1}=0.2*E$$\n",
    "В нашем случае Е – единичная матрица размера 5х5. Итак получаем:"
   ]
  },
  {
   "cell_type": "markdown",
   "metadata": {},
   "source": [
    "$0.2*\\begin{pmatrix}\n",
    "1 & 0 & 0 & 0 & 0\\\\\n",
    "0 & 1 & 0 & 0 & 0\\\\\n",
    "0 & 0 & 1 & 0 & 0\\\\\n",
    "0 & 0 & 0 & 1 & 0\\\\\n",
    "0 & 0 & 0 & 0 & 1\\\\\n",
    "\\end{pmatrix} = \n",
    "\\begin{pmatrix}\n",
    "0.2 & 0 & 0 & 0 & 0\\\\\n",
    "0 & 0.2 & 0 & 0 & 0\\\\\n",
    "0 & 0 & 0.2 & 0 & 0\\\\\n",
    "0 & 0 & 0 & 0.2 & 0\\\\\n",
    "0 & 0 & 0 & 0 & 0.2\\\\\n",
    "\\end{pmatrix}\n",
    "$ \n"
   ]
  },
  {
   "cell_type": "markdown",
   "metadata": {},
   "source": [
    "Проверим наши вычисления"
   ]
  },
  {
   "cell_type": "code",
   "execution_count": 2,
   "metadata": {},
   "outputs": [
    {
     "data": {
      "text/plain": [
       "array([[0.2, 0. , 0. , 0. , 0. ],\n",
       "       [0. , 0.2, 0. , 0. , 0. ],\n",
       "       [0. , 0. , 0.2, 0. , 0. ],\n",
       "       [0. , 0. , 0. , 0.2, 0. ],\n",
       "       [0. , 0. , 0. , 0. , 0.2]])"
      ]
     },
     "execution_count": 2,
     "metadata": {},
     "output_type": "execute_result"
    }
   ],
   "source": [
    "np.linalg.inv(5*np.identity(5))"
   ]
  },
  {
   "cell_type": "markdown",
   "metadata": {},
   "source": [
    "Видим, что расчеты были верными."
   ]
  },
  {
   "cell_type": "markdown",
   "metadata": {},
   "source": [
    "### 5.2. Вычислите определитель:\n",
    "\n",
    "$\\begin{vmatrix}\n",
    "1 & 2 & 3\\\\\n",
    "4 & 0 & 6\\\\\n",
    "7 & 8 & 9\\\\\n",
    "\\end{vmatrix}$\n",
    "#### Решение:\n",
    "\n",
    "det = 1*$\\begin{vmatrix}\n",
    "0 & 6\\\\\n",
    "8 & 9\\\\\n",
    "\\end{vmatrix}-\n",
    "2*\\begin{vmatrix}\n",
    "4 & 6\\\\\n",
    "7 & 9\\\\\n",
    "\\end{vmatrix}+\n",
    "3*\\begin{vmatrix}\n",
    "4 & 0\\\\\n",
    "7 & 8\\\\\n",
    "\\end{vmatrix}=-48-(2*(-6))+3*32=-48+12+96=60$  \n",
    "Проерим наши рассчеты"
   ]
  },
  {
   "cell_type": "code",
   "execution_count": 3,
   "metadata": {},
   "outputs": [
    {
     "data": {
      "text/plain": [
       "59.999999999999986"
      ]
     },
     "execution_count": 3,
     "metadata": {},
     "output_type": "execute_result"
    }
   ],
   "source": [
    "b=np.array([[1, 2, 3], [4, 0, 6], [7, 8, 9]])\n",
    "np.linalg.det(b)"
   ]
  },
  {
   "cell_type": "markdown",
   "metadata": {},
   "source": [
    "Видим, что мы рассчитали детерминант правильно"
   ]
  },
  {
   "cell_type": "markdown",
   "metadata": {},
   "source": [
    "### 5.3.1. Вычислите матрицу, обратную данной:\n",
    "$A=\\begin{pmatrix}\n",
    "1 & 2 & 3\\\\\n",
    "4 & 0 & 6\\\\\n",
    "7 & 8 & 9\\\\\n",
    "\\end{pmatrix}$\n",
    "#### Решение:"
   ]
  },
  {
   "cell_type": "markdown",
   "metadata": {},
   "source": [
    "Определим миноры элементов матрицы A\n",
    "\n",
    "M=$\\begin{pmatrix}\n",
    "-48 & -6 & 32\\\\\n",
    "-6 & -12 & -6\\\\\n",
    "12 & -6 & -8\\\\\n",
    "\\end{pmatrix}$\n",
    "\n",
    "Найдем алгебраические дополнения элементов матрицы A\n",
    "\n",
    "$A_*=\\begin{pmatrix}\n",
    "-48 & 6 & 32\\\\\n",
    "6 & -12 & 6\\\\\n",
    "12 & 6 & -8\\\\\n",
    "\\end{pmatrix}$\n",
    "\n",
    "Найдет матрицу обратную матрице A\n",
    "\n",
    "$A^{-1}=A_*^T/detA=\n",
    "\\begin{pmatrix}\n",
    "-48 & 6 & 12\\\\\n",
    "6 & -12 & 6\\\\\n",
    "32 & 6 & -8\\\\\n",
    "\\end{pmatrix}/60=\n",
    "\\begin{pmatrix}\n",
    "-0.8 & 0.1 & 0.2\\\\\n",
    "0.1 & -0.2 & 0.1\\\\\n",
    "8/15 & 0.1 & -2/15\\\\\n",
    "\\end{pmatrix}$   \n",
    "Проверим праильность вычисления обратной матрицы."
   ]
  },
  {
   "cell_type": "code",
   "execution_count": 4,
   "metadata": {},
   "outputs": [
    {
     "data": {
      "text/plain": [
       "array([[ 1.0000000e+00,  0.0000000e+00,  0.0000000e+00],\n",
       "       [ 0.0000000e+00,  1.0000000e+00,  0.0000000e+00],\n",
       "       [-8.8817842e-16,  0.0000000e+00,  1.0000000e+00]])"
      ]
     },
     "execution_count": 4,
     "metadata": {},
     "output_type": "execute_result"
    }
   ],
   "source": [
    "A=np.array([[1, 2, 3], [4, 0, 6], [7, 8, 9]])\n",
    "B=np.array([[-0.8, 0.1, 0.2], [0.1, -0.2, 0.1], [8/15, 0.1, -2/15]])\n",
    "A.dot(B)"
   ]
  },
  {
   "cell_type": "markdown",
   "metadata": {},
   "source": [
    "Видим, что мы нашли правильную обраную матрицу матрице A"
   ]
  },
  {
   "cell_type": "markdown",
   "metadata": {},
   "source": [
    "### 5.3.2. Приведите пример матрицы 4х4, ранг которой равен 1.\n",
    "#### Решение:\n"
   ]
  },
  {
   "cell_type": "markdown",
   "metadata": {},
   "source": [
    "$A=\\begin{pmatrix}\n",
    "1 & 0 & 0 & 0 & 0\\\\\n",
    "0 & 0 & 0 & 0 & 0\\\\\n",
    "0 & 0 & 0 & 0 & 0\\\\\n",
    "0 & 0 & 0 & 0 & 0\\\\\n",
    "\\end{pmatrix}$"
   ]
  },
  {
   "cell_type": "markdown",
   "metadata": {},
   "source": [
    "Проверим ранг указанной матрицы"
   ]
  },
  {
   "cell_type": "code",
   "execution_count": 5,
   "metadata": {},
   "outputs": [
    {
     "data": {
      "text/plain": [
       "array([[1, 0, 0, 0],\n",
       "       [0, 0, 0, 0],\n",
       "       [0, 0, 0, 0],\n",
       "       [0, 0, 0, 0]])"
      ]
     },
     "execution_count": 5,
     "metadata": {},
     "output_type": "execute_result"
    }
   ],
   "source": [
    "A=np.array([[1, 0, 0, 0], [0, 0, 0, 0], [0, 0, 0, 0], [0, 0, 0, 0],])\n",
    "A"
   ]
  },
  {
   "cell_type": "code",
   "execution_count": 6,
   "metadata": {},
   "outputs": [
    {
     "data": {
      "text/plain": [
       "1"
      ]
     },
     "execution_count": 6,
     "metadata": {},
     "output_type": "execute_result"
    }
   ],
   "source": [
    "np.linalg.matrix_rank(A)"
   ]
  },
  {
   "cell_type": "markdown",
   "metadata": {},
   "source": [
    "Видим, что действительно ранг матрицы A равен 1"
   ]
  },
  {
   "cell_type": "markdown",
   "metadata": {},
   "source": [
    "### 5.4. Вычислите скалярное произведение двух векторов:  (1, 5)  и  (2, 8)\n",
    "#### Решение:\n"
   ]
  },
  {
   "cell_type": "markdown",
   "metadata": {},
   "source": [
    "Скалярное произведение двух векторов равно 1*2+5*8=42\n",
    "Проверим"
   ]
  },
  {
   "cell_type": "code",
   "execution_count": 7,
   "metadata": {},
   "outputs": [
    {
     "data": {
      "text/plain": [
       "42"
      ]
     },
     "execution_count": 7,
     "metadata": {},
     "output_type": "execute_result"
    }
   ],
   "source": [
    "np.array([1, 5]).dot(np.array([2, 8]))"
   ]
  },
  {
   "cell_type": "markdown",
   "metadata": {},
   "source": [
    "Видим, что все правильно"
   ]
  },
  {
   "cell_type": "markdown",
   "metadata": {},
   "source": [
    "### 5.5 Вычислите смешанное произведение трех векторов: (1, 5, 0), (2, 8, 7) и (7, 1.5, 3) \n",
    "#### Решение:\n"
   ]
  },
  {
   "cell_type": "markdown",
   "metadata": {},
   "source": [
    "Смешанное произведение векторов a, и и с — это скалярное произведение вектора a на векторное произведение векторов b и c.\n",
    "Найдем сначало векторное произведение векторов  (1, 5, 0), (2, 8, 7). Оно равно:\n",
    "$\\begin{vmatrix}\n",
    "i & j & k\\\\\n",
    "1 & 5 & 0\\\\\n",
    "2 & 8 & 7\\\\\n",
    "\\end{vmatrix}=i*\\begin{vmatrix}\n",
    "5 & 0\\\\\n",
    "8 & 7\\\\\n",
    "\\end{vmatrix}-\n",
    "j*\\begin{vmatrix}\n",
    "1 & 0\\\\\n",
    "2 & 7\\\\\n",
    "\\end{vmatrix}+\n",
    "k*\\begin{vmatrix}\n",
    "1 & 5\\\\\n",
    "2 & 8\\\\\n",
    "\\end{vmatrix}=(35, -7, -2)$\n",
    "Теперь найдем скалярное произведение полученного вектора на вектор (7, 1.5, 3)\n",
    "\n",
    "$(35,−7,−2)*(7, 1.5, 3)=245-10.5-6=228.5$  \n",
    "Проверим\n"
   ]
  },
  {
   "cell_type": "code",
   "execution_count": 8,
   "metadata": {},
   "outputs": [
    {
     "name": "stdout",
     "output_type": "stream",
     "text": [
      "228.5\n"
     ]
    }
   ],
   "source": [
    "a = np.array([1, 5, 0], float)\n",
    "b = np.array([2, 8, 7], float)\n",
    "c = np.array([7, 1.5, 3], float)\n",
    "v = np.cross(a, b)\n",
    "print (np.inner(v, c))"
   ]
  },
  {
   "cell_type": "markdown",
   "metadata": {},
   "source": [
    "Видим, что свешанное произведение векторов найдено верно"
   ]
  }
 ],
 "metadata": {
  "kernelspec": {
   "display_name": "Python 3",
   "language": "python",
   "name": "python3"
  },
  "language_info": {
   "codemirror_mode": {
    "name": "ipython",
    "version": 3
   },
   "file_extension": ".py",
   "mimetype": "text/x-python",
   "name": "python",
   "nbconvert_exporter": "python",
   "pygments_lexer": "ipython3",
   "version": "3.7.4"
  }
 },
 "nbformat": 4,
 "nbformat_minor": 2
}
